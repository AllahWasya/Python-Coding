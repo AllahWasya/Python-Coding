{
 "cells": [
  {
   "cell_type": "markdown",
   "id": "0b1d5394",
   "metadata": {},
   "source": [
    "# Python Ka Chilla\n",
    "## *01__ code*\n",
    "### Hello"
   ]
  },
  {
   "cell_type": "code",
   "execution_count": 1,
   "id": "2330452d",
   "metadata": {},
   "outputs": [
    {
     "name": "stdout",
     "output_type": "stream",
     "text": [
      "5\n",
      "Hello World\n",
      "We are learnig pthon with one and only Baba_Ammar\n",
      "Ammar bhai Zindabad\n"
     ]
    }
   ],
   "source": [
    "print(2+3)\n",
    "print(\"Hello World\")\n",
    "print(\"We are learnig pthon with one and only Baba_Ammar\")\n",
    "print(\"Ammar bhai Zindabad\")"
   ]
  },
  {
   "cell_type": "markdown",
   "id": "6227f4fa",
   "metadata": {},
   "source": [
    "## *2__  code*\n",
    "### Operators"
   ]
  },
  {
   "cell_type": "code",
   "execution_count": 2,
   "id": "fc7eb0d5",
   "metadata": {},
   "outputs": [
    {
     "name": "stdout",
     "output_type": "stream",
     "text": [
      "5\n",
      "2.5\n",
      "3.3333333333333335\n",
      "0\n",
      "1\n",
      "5\n",
      "3\n",
      "6\n",
      "8\n",
      "20\n"
     ]
    }
   ],
   "source": [
    "print(2+3)\n",
    "print(10/4)\n",
    "print(10/3)\n",
    "print(10%2)\n",
    "print(10%3)\n",
    "print(10//2)\n",
    "print(10//3)\n",
    "print(2*3)\n",
    "print(2**3)\n",
    "print(2+3*4+(6//2*2))   "
   ]
  },
  {
   "cell_type": "markdown",
   "id": "0a26ddd4",
   "metadata": {},
   "source": [
    "## *3__ code*\n",
    "### Strings"
   ]
  },
  {
   "cell_type": "code",
   "execution_count": 3,
   "id": "0885c584",
   "metadata": {},
   "outputs": [
    {
     "name": "stdout",
     "output_type": "stream",
     "text": [
      "Hi this is amaazing\n",
      "How are you\n",
      "That's great\n"
     ]
    }
   ],
   "source": [
    "print(\"Hi this is amaazing\")\n",
    "print('How are you')\n",
    "# print('i'm fine')    ## It will produce error that's why commented. \n",
    "print(\"That's great\")"
   ]
  },
  {
   "cell_type": "markdown",
   "id": "52b8717e",
   "metadata": {},
   "source": [
    "## *4__ code*\n",
    "###  Commenting   \n",
    "#### For Commenting use shift+/"
   ]
  },
  {
   "cell_type": "code",
   "execution_count": 4,
   "id": "dc22d73e",
   "metadata": {},
   "outputs": [
    {
     "name": "stdout",
     "output_type": "stream",
     "text": [
      "Hi this is amaazing\n",
      "How are you\n",
      "8\n"
     ]
    }
   ],
   "source": [
    "print(\"Hi this is amaazing\")\n",
    "print('How are you')\n",
    "# print('i'm fine')    ## It will produce error that's why commented. \n",
    "#print(\"3+3\")\n",
    "print(3+5)"
   ]
  },
  {
   "cell_type": "markdown",
   "id": "4288cdd3",
   "metadata": {},
   "source": [
    "## *5__ code*\n",
    "###  Variales   "
   ]
  },
  {
   "cell_type": "code",
   "execution_count": 5,
   "id": "3b5ece4b",
   "metadata": {},
   "outputs": [
    {
     "name": "stdout",
     "output_type": "stream",
     "text": [
      "5\n",
      "I am learning python with baba Ammar\n",
      "15.5\n",
      "<class 'int'>\n",
      "<class 'str'>\n",
      "<class 'float'>\n",
      "<class 'float'>\n"
     ]
    }
   ],
   "source": [
    "x=5\n",
    "print(x)\n",
    "y=\"I am learning python with baba Ammar\"\n",
    "print(y)\n",
    "z=10.5\n",
    "d=3\n",
    "type(d)\n",
    "d=x+z\n",
    "print(d)\n",
    "print(type(x))\n",
    "print(type(y))\n",
    "print(type(z))\n",
    "print(type(d)) # Type of Add is changed to flot"
   ]
  },
  {
   "cell_type": "markdown",
   "id": "f470055a",
   "metadata": {},
   "source": [
    "## *6__ code*\n",
    "###  Input Variales   "
   ]
  },
  {
   "cell_type": "code",
   "execution_count": 6,
   "id": "28773a35",
   "metadata": {},
   "outputs": [
    {
     "name": "stdout",
     "output_type": "stream",
     "text": [
      "Enter Name: Allah Wasaya\n",
      "Enter age: 26\n",
      "Greetings!  Hi Allah Wasaya your are still young! Keep Learning pythom from Baba Ammar!\n"
     ]
    }
   ],
   "source": [
    "name=input(\"Enter Name: \")\n",
    "age=input(\"Enter age: \")\n",
    "greeting=\"Greetings! \"\n",
    "print(greeting,'Hi',name,\"your are still young! Keep Learning pythom from Baba Ammar!\" )"
   ]
  },
  {
   "cell_type": "markdown",
   "id": "79726997",
   "metadata": {},
   "source": [
    "## *7__ code*\n",
    "###  Conditional Logic   "
   ]
  },
  {
   "cell_type": "code",
   "execution_count": 7,
   "id": "e1b98bc4",
   "metadata": {},
   "outputs": [
    {
     "name": "stdout",
     "output_type": "stream",
     "text": [
      "True\n",
      "False\n",
      "True\n",
      "False\n",
      "True\n",
      "True\n",
      "False\n"
     ]
    }
   ],
   "source": [
    "print(4==4)\n",
    "print(4==3)\n",
    "print(4>3)\n",
    "print(3>6)\n",
    "print(3<5)\n",
    "print(5>=3)\n",
    "hammad_age=4  # int\n",
    "school_age=5  # int\n",
    "print(hammad_age==school_age) # comparision is allowed between same type otherwise it wwill give wrong answers..."
   ]
  },
  {
   "cell_type": "markdown",
   "id": "3ec25df2",
   "metadata": {},
   "source": [
    "## *8__ code*\n",
    "###  Conditional Logic   "
   ]
  },
  {
   "cell_type": "code",
   "execution_count": 8,
   "id": "d1f2a54f",
   "metadata": {},
   "outputs": [
    {
     "name": "stdout",
     "output_type": "stream",
     "text": [
      "<class 'float'>\n",
      "<class 'int'>\n"
     ]
    }
   ],
   "source": [
    "x=3\n",
    "y=0.0\n",
    "x=x+y\n",
    "print(type(x))\n",
    "x=int(x+y)\n",
    "print(type(x))"
   ]
  },
  {
   "cell_type": "markdown",
   "id": "f5fdab21",
   "metadata": {},
   "source": [
    "## *9__ code*\n",
    "###  If else condition "
   ]
  },
  {
   "cell_type": "code",
   "execution_count": 9,
   "id": "fc002601",
   "metadata": {},
   "outputs": [
    {
     "name": "stdout",
     "output_type": "stream",
     "text": [
      "Enter age of the student: 4\n",
      "student is still baby! \n"
     ]
    }
   ],
   "source": [
    "age=int(input(\"Enter age of the student: \"))\n",
    "school_age=5\n",
    "if  school_age<=age:\n",
    "    print(\"student is eligile for admission\")\n",
    "else:\n",
    "    print(\"student is still baby! \")\n"
   ]
  },
  {
   "cell_type": "markdown",
   "id": "9512320d",
   "metadata": {},
   "source": [
    "## *10__ code*\n",
    "###  Loops condition "
   ]
  },
  {
   "cell_type": "code",
   "execution_count": 10,
   "id": "91856d11",
   "metadata": {},
   "outputs": [
    {
     "name": "stdout",
     "output_type": "stream",
     "text": [
      "Asad 3\n",
      "Naveed 4\n",
      "Aslam 5\n"
     ]
    }
   ],
   "source": [
    "############## While Loop  #############\n",
    "# x=0\n",
    "# while x<5:\n",
    "#     print(x)\n",
    "#     x=x+1\n",
    "############## For Loop   ##############\n",
    "# x=1\n",
    "# for i in range(5): # 0 sa 4 tk \n",
    "#     print(i)\n",
    "\n",
    "#############  Range   #################\n",
    "# x=1\n",
    "# for i in range(1,10,2): # 1 sa 10 k darmayan with step 2 \n",
    "#     print(i)\n",
    "\n",
    "############  In string or set ########\n",
    "# d=\"I am good\"\n",
    "# for i in d:\n",
    "#     print(i)\n",
    "######################################\n",
    "# s =[2, 4, 5, 7] \n",
    "# for j in s:\n",
    "#     print(j)\n",
    "######################################\n",
    "# t= ['ali','sabir','shabbir']\n",
    "# for k in t:\n",
    "#     print(k)\n",
    "#####################################\n",
    "Z={'Asad':'3','Naveed':'4','Aslam':'5'}\n",
    "for i in Z:\n",
    "#     print(i)\n",
    "#     print(Z[i])\n",
    "    print(i,Z[i])"
   ]
  },
  {
   "cell_type": "markdown",
   "id": "736e946b",
   "metadata": {},
   "source": []
  },
  {
   "cell_type": "markdown",
   "id": "63b4caaa",
   "metadata": {},
   "source": [
    "## *11__ code*\n",
    "###  Functions"
   ]
  },
  {
   "cell_type": "code",
   "execution_count": 11,
   "id": "1edc3bb9",
   "metadata": {},
   "outputs": [
    {
     "name": "stdout",
     "output_type": "stream",
     "text": [
      "6\n"
     ]
    }
   ],
   "source": [
    "def Total(val1,val2):\n",
    "    return val1+val1\n",
    "print(Total(3,5))\n",
    "    "
   ]
  },
  {
   "cell_type": "markdown",
   "id": "386dbef1",
   "metadata": {},
   "source": [
    "## *12__ code*\n",
    "### Import"
   ]
  },
  {
   "cell_type": "code",
   "execution_count": 12,
   "id": "ef7e30d7",
   "metadata": {},
   "outputs": [
    {
     "name": "stdout",
     "output_type": "stream",
     "text": [
      "Average marks are: 73.16666666666667\n"
     ]
    }
   ],
   "source": [
    "# import math\n",
    "# print(math.pi)\n",
    "import statistics\n",
    "Marks=[77,68,55,86,67,86]\n",
    "print(\"Average marks are:\",statistics.mean(Marks))"
   ]
  },
  {
   "cell_type": "code",
   "execution_count": 16,
   "id": "31f32e6a",
   "metadata": {},
   "outputs": [
    {
     "name": "stdout",
     "output_type": "stream",
     "text": [
      "(2, True, 'ali', 3.5)\n"
     ]
    }
   ],
   "source": [
    "tup=(2,True,\"ali\",3.5)\n",
    "print(tup)"
   ]
  },
  {
   "cell_type": "code",
   "execution_count": 83,
   "id": "6d7a0d31",
   "metadata": {},
   "outputs": [
    {
     "name": "stdout",
     "output_type": "stream",
     "text": [
      "2\n"
     ]
    }
   ],
   "source": [
    "List=(2,True,\"ali\",3.5,2)\n",
    "x=List.count(2)\n",
    "print(x)\n"
   ]
  },
  {
   "cell_type": "code",
   "execution_count": 94,
   "id": "79c280c7",
   "metadata": {},
   "outputs": [
    {
     "data": {
      "image/png": "[encoded data removed]",
      "text/plain": [
       "<Figure size 436.975x360 with 1 Axes>"
      ]
     },
     "metadata": {},
     "output_type": "display_data"
    },
    {
     "name": "stdout",
     "output_type": "stream",
     "text": [
      "2\n"
     ]
    }
   ],
   "source": [
    "import seaborn as sns\n",
    "import matplotlib.pyplot as plt\n",
    "sns.set_theme(style=\"ticks\",color_codes=True)\n",
    "titanic =sns.load_dataset(\"titanic\")\n",
    "sns.catplot(x=\"sex\", y=\"survived\", hue=\"class\", kind=\"bar\", data=titanic)\n",
    "plt.show()\n",
    "titanic\n",
    "print(x)"
   ]
  }
 ],
 "metadata": {
  "kernelspec": {
   "display_name": "Python 3 (ipykernel)",
   "language": "python",
   "name": "python3"
  },
  "language_info": {
   "codemirror_mode": {
    "name": "ipython",
    "version": 3
   },
   "file_extension": ".py",
   "mimetype": "text/x-python",
   "name": "python",
   "nbconvert_exporter": "python",
   "pygments_lexer": "ipython3",
   "version": "3.9.7"
  }
 },
 "nbformat": 4,
 "nbformat_minor": 5
}
